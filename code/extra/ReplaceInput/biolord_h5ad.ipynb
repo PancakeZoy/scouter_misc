{
 "cells": [
  {
   "cell_type": "code",
   "execution_count": 7,
   "metadata": {},
   "outputs": [],
   "source": [
    "import scanpy as sc\n",
    "import pandas as pd\n",
    "import numpy as np\n",
    "import pickle\n",
    "\n",
    "\n",
    "def get_perts(x):\n",
    "    if x == [\"ctrl\"]:\n",
    "        return x[0]\n",
    "    elif len(x) == 2:\n",
    "        return [i for i in x if i != \"ctrl\"][0]\n",
    "    else:\n",
    "        raise ValueError(f\"Invalid condition: {x}\")"
   ]
  },
  {
   "cell_type": "markdown",
   "metadata": {},
   "source": [
    "# Dixit"
   ]
  },
  {
   "cell_type": "code",
   "execution_count": 2,
   "metadata": {},
   "outputs": [
    {
     "name": "stderr",
     "output_type": "stream",
     "text": [
      "/var/folders/mv/8qq6_6n90m9cbkrpl5_cwft40000gn/T/ipykernel_14511/2055319407.py:10: FutureWarning: Series.__getitem__ treating keys as positions is deprecated. In a future version, integer keys will always be treated as labels (consistent with DataFrame behavior). To access a value by position, use `ser.iloc[pos]`\n",
      "  in_perts = perts[in_idx]\n"
     ]
    }
   ],
   "source": [
    "dixit_single = sc.read(\"data/Data_biolord/dixit/dixit_single_biolord.h5ad\")\n",
    "embd_path = \"data/Data_GeneEmbd/GenePT_V1.pickle\"\n",
    "with open(embd_path, \"rb\") as f:\n",
    "    embd = pd.DataFrame(pickle.load(f)).T\n",
    "ctrl_row = pd.DataFrame([np.zeros(embd.shape[1])], columns=embd.columns, index=[\"ctrl\"])\n",
    "embd = pd.concat([ctrl_row, embd])\n",
    "\n",
    "perts = dixit_single.obs.condition.str.split(\"+\").apply(get_perts)\n",
    "in_idx = list(np.where(perts.isin(embd.index))[0])\n",
    "in_perts = perts[in_idx]\n",
    "in_bcodes = dixit_single.obs_names[in_idx]\n",
    "\n",
    "dixit_single = dixit_single[in_bcodes].copy()\n",
    "dixit_single.obsm[\"perturbation_neighbors\"] = embd.loc[in_perts].values\n",
    "dixit_single.write_h5ad(\"data/Data_biolord/dixit/dixit_single_biolord_embedding.h5ad\")"
   ]
  },
  {
   "cell_type": "markdown",
   "metadata": {},
   "source": [
    "## Adamson"
   ]
  },
  {
   "cell_type": "code",
   "execution_count": null,
   "metadata": {},
   "outputs": [
    {
     "name": "stderr",
     "output_type": "stream",
     "text": [
      "/var/folders/mv/8qq6_6n90m9cbkrpl5_cwft40000gn/T/ipykernel_14511/2946345238.py:24: FutureWarning: Series.__getitem__ treating keys as positions is deprecated. In a future version, integer keys will always be treated as labels (consistent with DataFrame behavior). To access a value by position, use `ser.iloc[pos]`\n",
      "  in_perts = perts[in_idx]\n"
     ]
    }
   ],
   "source": [
    "adamson_single = sc.read(\"data/Data_biolord/adamson/adamson_single_biolord.h5ad\")\n",
    "embd_path = \"data/Data_GeneEmbd/GenePT_V1.pickle\"\n",
    "with open(embd_path, \"rb\") as f:\n",
    "    embd = pd.DataFrame(pickle.load(f)).T\n",
    "ctrl_row = pd.DataFrame([np.zeros(embd.shape[1])], columns=embd.columns, index=[\"ctrl\"])\n",
    "embd = pd.concat([ctrl_row, embd])\n",
    "embd.rename(\n",
    "    index={\n",
    "        \"SARS1\": \"SARS\",\n",
    "        \"DARS1\": \"DARS\",\n",
    "        \"QARS1\": \"QARS\",\n",
    "        \"TARS1\": \"TARS\",\n",
    "        \"HARS1\": \"HARS\",\n",
    "        \"CARS1\": \"CARS\",\n",
    "        \"SRPRA\": \"SRPR\",\n",
    "        \"MARS1\": \"MARS\",\n",
    "        \"AARS1\": \"AARS\",\n",
    "        \"PRELID3B\": \"SLMO2\",\n",
    "    },\n",
    "    inplace=True,\n",
    ")\n",
    "perts = adamson_single.obs.condition.str.split(\"+\").apply(get_perts)\n",
    "in_idx = list(np.where(perts.isin(embd.index))[0])\n",
    "in_perts = perts[in_idx]\n",
    "in_bcodes = adamson_single.obs_names[in_idx]\n",
    "\n",
    "adamson_single = adamson_single[in_bcodes].copy()\n",
    "adamson_single.obsm[\"perturbation_neighbors\"] = embd.loc[in_perts].values\n",
    "adamson_single.write_h5ad(\"data/Data_biolord/adamson/adamson_single_biolord_embedding.h5ad\")"
   ]
  },
  {
   "cell_type": "markdown",
   "metadata": {},
   "source": [
    "## Norman"
   ]
  },
  {
   "cell_type": "code",
   "execution_count": 4,
   "metadata": {},
   "outputs": [
    {
     "name": "stderr",
     "output_type": "stream",
     "text": [
      "/var/folders/mv/8qq6_6n90m9cbkrpl5_cwft40000gn/T/ipykernel_14511/1874520258.py:19: FutureWarning: Series.__getitem__ treating keys as positions is deprecated. In a future version, integer keys will always be treated as labels (consistent with DataFrame behavior). To access a value by position, use `ser.iloc[pos]`\n",
      "  in_perts = perts[in_idx]\n"
     ]
    }
   ],
   "source": [
    "norman_single = sc.read(\"data/Data_biolord/norman/norman2019_single_biolord.h5ad\")\n",
    "embd_path = \"data/Data_GeneEmbd/GenePT_V1.pickle\"\n",
    "with open(embd_path, \"rb\") as f:\n",
    "    embd = pd.DataFrame(pickle.load(f)).T\n",
    "ctrl_row = pd.DataFrame([np.zeros(embd.shape[1])], columns=embd.columns, index=[\"ctrl\"])\n",
    "embd = pd.concat([ctrl_row, embd])\n",
    "embd.rename(\n",
    "    index={\n",
    "        \"MAP3K21\": \"KIAA1804\",\n",
    "        \"FOXL2NB\": \"C3orf72\",\n",
    "        \"RHOXF2B\": \"RHOXF2BB\",\n",
    "        \"MIDEAS\": \"ELMSAN1\",\n",
    "        \"CBARP\": \"C19orf26\",\n",
    "    },\n",
    "    inplace=True,\n",
    ")\n",
    "perts = norman_single.obs.condition.str.split(\"+\").apply(get_perts)\n",
    "in_idx = list(np.where(perts.isin(embd.index))[0])\n",
    "in_perts = perts[in_idx]\n",
    "in_bcodes = norman_single.obs_names[in_idx]\n",
    "\n",
    "norman_single = norman_single[in_bcodes].copy()\n",
    "norman_single.obsm[\"perturbation_neighbors\"] = embd.loc[in_perts].values\n",
    "norman_single.write_h5ad(\n",
    "    \"data/Data_biolord/norman/norman2019_single_biolord_embedding.h5ad\"\n",
    ")"
   ]
  },
  {
   "cell_type": "markdown",
   "metadata": {},
   "source": [
    "## Replogle K562"
   ]
  },
  {
   "cell_type": "code",
   "execution_count": 5,
   "metadata": {},
   "outputs": [
    {
     "name": "stderr",
     "output_type": "stream",
     "text": [
      "/var/folders/mv/8qq6_6n90m9cbkrpl5_cwft40000gn/T/ipykernel_14511/3937232734.py:33: FutureWarning: Series.__getitem__ treating keys as positions is deprecated. In a future version, integer keys will always be treated as labels (consistent with DataFrame behavior). To access a value by position, use `ser.iloc[pos]`\n",
      "  in_perts = perts[in_idx]\n"
     ]
    }
   ],
   "source": [
    "repk562_single = sc.read(\"data/Data_biolord/replogle_k562_essential/k562_single_biolord.h5ad\")\n",
    "repk562 = sc.read(\"data/Data_biolord/replogle_k562_essential/k562_biolord.h5ad\")\n",
    "embd_path = \"data/Data_GeneEmbd/GenePT_V1.pickle\"\n",
    "with open(embd_path, \"rb\") as f:\n",
    "    embd = pd.DataFrame(pickle.load(f)).T\n",
    "ctrl_row = pd.DataFrame([np.zeros(embd.shape[1])], columns=embd.columns, index=[\"ctrl\"])\n",
    "embd = pd.concat([ctrl_row, embd])\n",
    "embd.rename(\n",
    "    index={\n",
    "        \"AARS1\": \"AARS\",\n",
    "        \"CENATAC\": \"CCDC84\",\n",
    "        \"POLR1G\": \"CD3EAP\",\n",
    "        \"DARS1\": \"DARS\",\n",
    "        \"EPRS1\": \"EPRS\",\n",
    "        \"HARS1\": \"HARS\",\n",
    "        \"IARS1\": \"IARS\",\n",
    "        \"KARS1\": \"KARS\",\n",
    "        \"LARS1\": \"LARS\",\n",
    "        \"MARS1\": \"MARS\",\n",
    "        \"QARS1\": \"QARS\",\n",
    "        \"RARS1\": \"RARS\",\n",
    "        \"SARS1\": \"SARS\",\n",
    "        \"TARS1\": \"TARS\",\n",
    "        \"POLR1F\": \"TWISTNB\",\n",
    "        \"VARS1\": \"VARS\",\n",
    "        \"POLR1H\": \"ZNRD1\",\n",
    "    },\n",
    "    inplace=True,\n",
    ")\n",
    "perts = repk562_single.obs.condition.str.split(\"+\").apply(get_perts)\n",
    "in_idx = list(np.where(perts.isin(embd.index))[0])\n",
    "in_perts = perts[in_idx]\n",
    "in_bcodes = repk562_single.obs_names[in_idx]\n",
    "\n",
    "repk562_single = repk562_single[in_bcodes].copy()\n",
    "repk562_single.obsm[\"perturbation_neighbors\"] = embd.loc[in_perts].values\n",
    "repk562_single.write_h5ad(\"data/Data_biolord/replogle_k562_essential/k562_single_biolord_embedding.h5ad\")\n",
    "\n",
    "repk562 = repk562[repk562.obs.condition.isin(in_perts.index)].copy()\n",
    "repk562.write_h5ad(\"data/Data_biolord/replogle_k562_essential/k562_biolord_embedding.h5ad\")"
   ]
  },
  {
   "cell_type": "markdown",
   "metadata": {},
   "source": [
    "## Replogle RPE1"
   ]
  },
  {
   "cell_type": "code",
   "execution_count": 6,
   "metadata": {},
   "outputs": [
    {
     "name": "stderr",
     "output_type": "stream",
     "text": [
      "/var/folders/mv/8qq6_6n90m9cbkrpl5_cwft40000gn/T/ipykernel_14511/3715397500.py:12: FutureWarning: Series.__getitem__ treating keys as positions is deprecated. In a future version, integer keys will always be treated as labels (consistent with DataFrame behavior). To access a value by position, use `ser.iloc[pos]`\n",
      "  in_perts = perts[in_idx]\n"
     ]
    }
   ],
   "source": [
    "reprpe1_single = sc.read(\"data/Data_biolord/replogle_rpe1_essential/rpe1_single_biolord.h5ad\")\n",
    "reprpe1 = sc.read(\"data/Data_biolord/replogle_rpe1_essential/rpe1_biolord.h5ad\")\n",
    "embd_path = \"data/Data_GeneEmbd/GenePT_V1.pickle\"\n",
    "with open(embd_path, \"rb\") as f:\n",
    "    embd = pd.DataFrame(pickle.load(f)).T\n",
    "ctrl_row = pd.DataFrame([np.zeros(embd.shape[1])], columns=embd.columns, index=[\"ctrl\"])\n",
    "embd = pd.concat([ctrl_row, embd])\n",
    "embd.rename(index={\"ZZZ3\": \"AC118549.1\"}, inplace=True)\n",
    "perts = reprpe1_single.obs.condition.str.split(\"+\").apply(get_perts)\n",
    "in_idx = list(np.where(perts.isin(embd.index))[0])\n",
    "in_perts = perts[in_idx]\n",
    "in_bcodes = reprpe1_single.obs_names[in_idx]\n",
    "\n",
    "reprpe1_single = reprpe1_single[in_bcodes].copy()\n",
    "reprpe1_single.obsm[\"perturbation_neighbors\"] = embd.loc[in_perts].values\n",
    "reprpe1_single.write_h5ad(\n",
    "    \"data/Data_biolord/replogle_rpe1_essential/rpe1_single_biolord_embedding.h5ad\"\n",
    ")\n",
    "\n",
    "reprpe1 = reprpe1[reprpe1.obs.condition.isin(in_perts.index)].copy()\n",
    "reprpe1.write_h5ad(\"data/Data_biolord/replogle_rpe1_essential/rpe1_biolord_embedding.h5ad\")"
   ]
  }
 ],
 "metadata": {
  "kernelspec": {
   "display_name": "perturb",
   "language": "python",
   "name": "python3"
  },
  "language_info": {
   "codemirror_mode": {
    "name": "ipython",
    "version": 3
   },
   "file_extension": ".py",
   "mimetype": "text/x-python",
   "name": "python",
   "nbconvert_exporter": "python",
   "pygments_lexer": "ipython3",
   "version": "3.11.0"
  }
 },
 "nbformat": 4,
 "nbformat_minor": 2
}
